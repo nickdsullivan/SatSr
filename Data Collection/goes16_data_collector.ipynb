{
 "cells": [
  {
   "cell_type": "code",
   "execution_count": 2,
   "metadata": {},
   "outputs": [],
   "source": [
    "import os\n",
    "import requests\n",
    "from bs4 import BeautifulSoup\n",
    "from tqdm import tqdm\n",
    "from datetime import datetime\n",
    "from PIL import Image\n",
    "\n",
    "\n"
   ]
  },
  {
   "cell_type": "code",
   "execution_count": 6,
   "metadata": {},
   "outputs": [],
   "source": [
    "# Website that hosts the data.\n",
    "url = \"https://cdn.star.nesdis.noaa.gov/GOES16/ABI/SECTOR/ne/GEOCOLOR/\"\n"
   ]
  },
  {
   "cell_type": "code",
   "execution_count": 17,
   "metadata": {},
   "outputs": [
    {
     "name": "stdout",
     "output_type": "stream",
     "text": [
      "Accessed:  2025-02-07 17:41:37.371417\n"
     ]
    },
    {
     "name": "stderr",
     "output_type": "stream",
     "text": [
      "100%|██████████| 11683/11683 [2:03:23<00:00,  1.58it/s]  \n"
     ]
    }
   ],
   "source": [
    "\n",
    "response = requests.get(url)\n",
    "soup = BeautifulSoup(response.text, 'html.parser')\n",
    "\n",
    "print(\"Accessed: \", datetime.now())\n",
    "results = soup.find_all('a')\n",
    "for link in tqdm(results):\n",
    "    href = link.get('href')\n",
    "    if href == \"../\":\n",
    "        continue\n",
    "    file_url = url + href\n",
    "\n",
    "    # Get the file\n",
    "    file_response = requests.get(file_url)\n",
    "\n",
    "    # Skip downloading the gifs\n",
    "    if \".jpg\" not in file_url:\n",
    "        continue\n",
    "    if os.path.exists(f\"../GEOCOLOR_IMAGES/{href}\"):\n",
    "        continue\n",
    "    if file_response.status_code == 200:\n",
    "        # Save the file to GEOCOLOR_IMAGES\n",
    "        with open(f\"../GEOCOLOR_IMAGES/{href}\", 'wb') as file:\n",
    "            file.write(file_response.content)\n"
   ]
  },
  {
   "cell_type": "code",
   "execution_count": 3,
   "metadata": {},
   "outputs": [
    {
     "name": "stderr",
     "output_type": "stream",
     "text": [
      "100%|██████████| 11530/11530 [21:14<00:00,  9.05it/s]  \n"
     ]
    }
   ],
   "source": [
    "# Convert to png\n",
    "\n",
    "\n",
    "input_dir = \"../GEOCOLOR_IMAGES_JPG\"\n",
    "base_output_dir = \"../GEOCOLOR_IMAGES\"\n",
    "\n",
    "os.makedirs(base_output_dir, exist_ok=True)\n",
    "os.makedirs(base_output_dir + \"/300\", exist_ok=True)\n",
    "os.makedirs(base_output_dir + \"/600\", exist_ok=True)\n",
    "os.makedirs(base_output_dir + \"/1200\", exist_ok=True)\n",
    "os.makedirs(base_output_dir + \"/2400\", exist_ok=True)\n",
    "\n",
    "for filename in tqdm(os.listdir(input_dir)):\n",
    "    if filename.endswith(\".jpg\") or filename.endswith(\".jpeg\"):\n",
    "        img = Image.open(os.path.join(input_dir, filename))\n",
    "        if \"300\" in filename:\n",
    "            output_dir =base_output_dir + \"/300\"\n",
    "        elif \"600\" in filename:\n",
    "            output_dir =base_output_dir + \"/600\"\n",
    "        elif \"1200\" in filename:\n",
    "            output_dir =base_output_dir + \"/1200\"\n",
    "        elif \"2400\" in filename:\n",
    "            output_dir =base_output_dir + \"/2400\"\n",
    "       \n",
    "        width, height = img.size\n",
    "        new_height = int(height * 0.9)  # Remove bottom 10%  # This is where the text and watermark is\n",
    "        img = img.crop((0, 0, width, new_height))\n",
    "\n",
    "        img.save(os.path.join(output_dir, filename.replace(\".jpg\", \".png\")))\n",
    "         "
   ]
  },
  {
   "cell_type": "code",
   "execution_count": null,
   "metadata": {},
   "outputs": [],
   "source": []
  }
 ],
 "metadata": {
  "kernelspec": {
   "display_name": ".venv",
   "language": "python",
   "name": "python3"
  },
  "language_info": {
   "codemirror_mode": {
    "name": "ipython",
    "version": 3
   },
   "file_extension": ".py",
   "mimetype": "text/x-python",
   "name": "python",
   "nbconvert_exporter": "python",
   "pygments_lexer": "ipython3",
   "version": "3.13.1"
  }
 },
 "nbformat": 4,
 "nbformat_minor": 2
}
